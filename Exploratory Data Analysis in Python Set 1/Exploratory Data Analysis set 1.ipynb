{
 "cells": [
  {
   "cell_type": "markdown",
   "id": "d2449629-14a6-4bfe-a36c-aa5b7ef9c200",
   "metadata": {},
   "source": [
    "Exploratory Data Analysis "
   ]
  },
  {
   "cell_type": "code",
   "execution_count": 2,
   "id": "54f329a4-76d7-4fab-9ae9-2d5531c2b9db",
   "metadata": {},
   "outputs": [],
   "source": [
    "import numpy as np \n",
    "import pandas as pd \n",
    "import seaborn as sns \n",
    "import matplotlib.pyplot as plt \n",
    "from scipy.stats import trim_mean "
   ]
  },
  {
   "cell_type": "raw",
   "id": "3458fbcb-0974-4a73-99f3-9430fc60157e",
   "metadata": {},
   "source": [
    "import seaborn as sns \n",
    "# Seaborn is a powerful Python library used for data visualization. It is built on top of Matplotlib and integrates closely with Pandas, making it easier to create attractive and informative statistical graphics."
   ]
  },
  {
   "cell_type": "raw",
   "id": "85c42fcc-a03e-4ccf-a5fe-115bfb737388",
   "metadata": {},
   "source": [
    "from scipy.stats import trim_mean \n",
    "The trim_mean function from the scipy.stats library in Python is used to calculate the trimmed mean of a dataset.\n",
    "\n",
    "What is the trimmed mean?\n",
    "\n",
    "It's a robust statistical measure of central tendency that is less sensitive to outliers than the simple arithmetic mean.   \n",
    "It works by removing a specified percentage of data points from both ends of the sorted dataset before calculating the mean."
   ]
  },
  {
   "cell_type": "code",
   "execution_count": 15,
   "id": "02514ab8-951b-43c4-9166-33a42bc1ff26",
   "metadata": {},
   "outputs": [
    {
     "name": "stdout",
     "output_type": "stream",
     "text": [
      "DataFrame created and saved to 'state_data.csv'\n"
     ]
    }
   ],
   "source": [
    "import pandas as pd\n",
    "\n",
    "# Complete data for 40 states\n",
    "data = {\n",
    "    'State': ['Alabama', 'Alaska', 'Arizona', 'Arkansas', 'California', 'Colorado', 'Connecticut', 'Delaware', 'Florida', 'Georgia', \n",
    "              'Hawaii', 'Idaho', 'Illinois', 'Indiana', 'Iowa', 'Kansas', 'Kentucky', 'Louisiana', 'Maine', 'Maryland', \n",
    "              'Massachusetts', 'Michigan', 'Minnesota', 'Mississippi', 'Missouri', 'Montana', 'Nebraska', 'Nevada', 'New Hampshire', \n",
    "              'New Jersey', 'New Mexico', 'New York', 'North Carolina', 'North Dakota', 'Ohio', 'Oklahoma', 'Oregon', 'Pennsylvania', \n",
    "              'Rhode Island', 'South Carolina'],\n",
    "    'Abbreviation': ['AL', 'AK', 'AZ', 'AR', 'CA', 'CO', 'CT', 'DE', 'FL', 'GA', 'HI', 'ID', 'IL', 'IN', 'IA', 'KS', 'KY', 'LA', 'ME', 'MD', \n",
    "                     'MA', 'MI', 'MN', 'MS', 'MO', 'MT', 'NE', 'NV', 'NH', 'NJ', 'NM', 'NY', 'NC', 'ND', 'OH', 'OK', 'OR', 'PA', \n",
    "                     'RI', 'SC'],\n",
    "    'Population': [4903185, 731545, 7278717, 3017804, 39512223, 5758736, 3565287, 989948, 21538187, 10617423, 1455271, 1787065, \n",
    "                   12579261, 6732219, 3190369, 2913314, 4505836, 4648794, 1344212, 6045680, 6949503, 9986857, 5706494, 2976149, \n",
    "                   6137428, 1068778, 1961504, 3104614, 1377529, 9222537, 2096829, 19453561, 10488084, 762062, 11689100, 3956971, \n",
    "                   4237256, 12801989, 1097374, 5148714],\n",
    "    'Murder.Rate': [5.7, 10.3, 4.9, 5.6, 4.6, 2.7, 2.5, 5.8, 6.4, 5.4, 2.7, 2.6, 18.2, 7.2, 2.2, 3.9, 5.3, 10.3, 2.1, 11.3, 2.7, \n",
    "                    17.4, 2.7, 16.1, 10.0, 6.0, 4.6, 7.4, 2.6, 7.4, 5.1, 4.2, 6.1, 2.8, 7.8, 8.1, 3.4, 5.6, 2.5,1.5]\n",
    "}\n",
    "\n",
    "# Create a DataFrame\n",
    "df = pd.DataFrame(data)\n",
    "\n",
    "# Save the DataFrame to a CSV file\n",
    "df.to_csv('state_data.csv', index=False)\n",
    "\n",
    "# Print confirmation\n",
    "print(\"DataFrame created and saved to 'state_data.csv'\")\n"
   ]
  },
  {
   "cell_type": "code",
   "execution_count": 14,
   "id": "d5968d4d-4171-47ea-94cd-f8f696f15c13",
   "metadata": {},
   "outputs": [
    {
     "name": "stdout",
     "output_type": "stream",
     "text": [
      "State: 41\n",
      "Abbreviation: 41\n",
      "Population: 40\n",
      "Murder.Rate: 39\n"
     ]
    }
   ],
   "source": [
    "for key, value in data.items():\n",
    "    print(f\"{key}: {len(value)}\")\n"
   ]
  },
  {
   "cell_type": "code",
   "execution_count": 16,
   "id": "39fd8746-1454-42ae-a7db-c6d06b88ba19",
   "metadata": {},
   "outputs": [
    {
     "name": "stdout",
     "output_type": "stream",
     "text": [
      "Type :  <class 'pandas.core.frame.DataFrame'> \n",
      "\n",
      "\n",
      "Head -- \n",
      "          State Abbreviation  Population  Murder.Rate\n",
      "0      Alabama           AL     4903185          5.7\n",
      "1       Alaska           AK      731545         10.3\n",
      "2      Arizona           AZ     7278717          4.9\n",
      "3     Arkansas           AR     3017804          5.6\n",
      "4   California           CA    39512223          4.6\n",
      "5     Colorado           CO     5758736          2.7\n",
      "6  Connecticut           CT     3565287          2.5\n",
      "7     Delaware           DE      989948          5.8\n",
      "8      Florida           FL    21538187          6.4\n",
      "9      Georgia           GA    10617423          5.4\n",
      "\n",
      "\n",
      " Tail -- \n",
      "              State Abbreviation  Population  Murder.Rate\n",
      "30      New Mexico           NM     2096829          5.1\n",
      "31        New York           NY    19453561          4.2\n",
      "32  North Carolina           NC    10488084          6.1\n",
      "33    North Dakota           ND      762062          2.8\n",
      "34            Ohio           OH    11689100          7.8\n",
      "35        Oklahoma           OK     3956971          8.1\n",
      "36          Oregon           OR     4237256          3.4\n",
      "37    Pennsylvania           PA    12801989          5.6\n",
      "38    Rhode Island           RI     1097374          2.5\n",
      "39  South Carolina           SC     5148714          1.5\n"
     ]
    }
   ],
   "source": [
    "data = pd.read_csv(\"state_data.csv\") \n",
    "\n",
    "# Check the type of data \n",
    "print (\"Type : \", type(data), \"\\n\\n\") \n",
    "\n",
    "# Printing Top 10 Records \n",
    "print (\"Head -- \\n\", data.head(10)) \n",
    "\n",
    "# Printing last 10 Records \n",
    "print (\"\\n\\n Tail -- \\n\", data.tail(10)) \n"
   ]
  },
  {
   "cell_type": "code",
   "execution_count": 17,
   "id": "f8aec8d4-8103-423e-9e2e-d53d359b7348",
   "metadata": {},
   "outputs": [
    {
     "name": "stdout",
     "output_type": "stream",
     "text": [
      "        State Abbreviation  Population  Murder.Rate  PopulationInMillions\n",
      "0     Alabama           AL     4903185          5.7              4.903185\n",
      "1      Alaska           AK      731545         10.3              0.731545\n",
      "2     Arizona           AZ     7278717          4.9              7.278717\n",
      "3    Arkansas           AR     3017804          5.6              3.017804\n",
      "4  California           CA    39512223          4.6             39.512223\n"
     ]
    }
   ],
   "source": [
    "# Adding a new column with derived data \n",
    "\n",
    "data['PopulationInMillions'] = data['Population']/1000000\n",
    "\n",
    "# Changed data \n",
    "print (data.head(5)) \n"
   ]
  },
  {
   "cell_type": "code",
   "execution_count": 18,
   "id": "f8479da9-5e6f-4b2c-89c2-3db702df110b",
   "metadata": {},
   "outputs": [
    {
     "data": {
      "text/html": [
       "<div>\n",
       "<style scoped>\n",
       "    .dataframe tbody tr th:only-of-type {\n",
       "        vertical-align: middle;\n",
       "    }\n",
       "\n",
       "    .dataframe tbody tr th {\n",
       "        vertical-align: top;\n",
       "    }\n",
       "\n",
       "    .dataframe thead th {\n",
       "        text-align: right;\n",
       "    }\n",
       "</style>\n",
       "<table border=\"1\" class=\"dataframe\">\n",
       "  <thead>\n",
       "    <tr style=\"text-align: right;\">\n",
       "      <th></th>\n",
       "      <th>Population</th>\n",
       "      <th>Murder.Rate</th>\n",
       "      <th>PopulationInMillions</th>\n",
       "    </tr>\n",
       "  </thead>\n",
       "  <tbody>\n",
       "    <tr>\n",
       "      <th>count</th>\n",
       "      <td>4.000000e+01</td>\n",
       "      <td>40.000000</td>\n",
       "      <td>40.000000</td>\n",
       "    </tr>\n",
       "    <tr>\n",
       "      <th>mean</th>\n",
       "      <td>6.583460e+06</td>\n",
       "      <td>6.092500</td>\n",
       "      <td>6.583460</td>\n",
       "    </tr>\n",
       "    <tr>\n",
       "      <th>std</th>\n",
       "      <td>7.213699e+06</td>\n",
       "      <td>4.075215</td>\n",
       "      <td>7.213699</td>\n",
       "    </tr>\n",
       "    <tr>\n",
       "      <th>min</th>\n",
       "      <td>7.315450e+05</td>\n",
       "      <td>1.500000</td>\n",
       "      <td>0.731545</td>\n",
       "    </tr>\n",
       "    <tr>\n",
       "      <th>25%</th>\n",
       "      <td>2.062998e+06</td>\n",
       "      <td>2.700000</td>\n",
       "      <td>2.062998</td>\n",
       "    </tr>\n",
       "    <tr>\n",
       "      <th>50%</th>\n",
       "      <td>4.577315e+06</td>\n",
       "      <td>5.350000</td>\n",
       "      <td>4.577315</td>\n",
       "    </tr>\n",
       "    <tr>\n",
       "      <th>75%</th>\n",
       "      <td>7.764672e+06</td>\n",
       "      <td>7.400000</td>\n",
       "      <td>7.764672</td>\n",
       "    </tr>\n",
       "    <tr>\n",
       "      <th>max</th>\n",
       "      <td>3.951222e+07</td>\n",
       "      <td>18.200000</td>\n",
       "      <td>39.512223</td>\n",
       "    </tr>\n",
       "  </tbody>\n",
       "</table>\n",
       "</div>"
      ],
      "text/plain": [
       "         Population  Murder.Rate  PopulationInMillions\n",
       "count  4.000000e+01    40.000000             40.000000\n",
       "mean   6.583460e+06     6.092500              6.583460\n",
       "std    7.213699e+06     4.075215              7.213699\n",
       "min    7.315450e+05     1.500000              0.731545\n",
       "25%    2.062998e+06     2.700000              2.062998\n",
       "50%    4.577315e+06     5.350000              4.577315\n",
       "75%    7.764672e+06     7.400000              7.764672\n",
       "max    3.951222e+07    18.200000             39.512223"
      ]
     },
     "execution_count": 18,
     "metadata": {},
     "output_type": "execute_result"
    }
   ],
   "source": [
    "data.describe() \n"
   ]
  },
  {
   "cell_type": "code",
   "execution_count": 19,
   "id": "6d5481a0-dafa-44e8-8f84-eba8f51d38fd",
   "metadata": {},
   "outputs": [
    {
     "name": "stdout",
     "output_type": "stream",
     "text": [
      "<class 'pandas.core.frame.DataFrame'>\n",
      "RangeIndex: 40 entries, 0 to 39\n",
      "Data columns (total 5 columns):\n",
      " #   Column                Non-Null Count  Dtype  \n",
      "---  ------                --------------  -----  \n",
      " 0   State                 40 non-null     object \n",
      " 1   Abbreviation          40 non-null     object \n",
      " 2   Population            40 non-null     int64  \n",
      " 3   Murder.Rate           40 non-null     float64\n",
      " 4   PopulationInMillions  40 non-null     float64\n",
      "dtypes: float64(2), int64(1), object(2)\n",
      "memory usage: 1.7+ KB\n"
     ]
    }
   ],
   "source": [
    "data.info() \n"
   ]
  },
  {
   "cell_type": "code",
   "execution_count": 20,
   "id": "e3ce6cdc-5479-462f-803f-3eda09a5f077",
   "metadata": {},
   "outputs": [
    {
     "data": {
      "text/plain": [
       "['State', 'Abbreviation', 'Population', 'MurderRate', 'PopulationInMillions']"
      ]
     },
     "execution_count": 20,
     "metadata": {},
     "output_type": "execute_result"
    }
   ],
   "source": [
    "# Rename column heading as it \n",
    "# has '.' in it which will create \n",
    "# problems when dealing functions \n",
    "\n",
    "data.rename(columns ={'Murder.Rate': 'MurderRate'}, inplace = True) \n",
    "\n",
    "# Lets check the column headings \n",
    "list(data) \n"
   ]
  },
  {
   "cell_type": "code",
   "execution_count": 21,
   "id": "9d280b0d-6375-48ab-b183-cca7879d89c6",
   "metadata": {},
   "outputs": [
    {
     "name": "stdout",
     "output_type": "stream",
     "text": [
      "Population Mean :  6583460.225\n",
      "\n",
      "MurderRate Mean :  6.092499999999999\n"
     ]
    }
   ],
   "source": [
    "# calculate mean\n",
    "Population_mean = data.Population.mean() \n",
    "print (\"Population Mean : \", Population_mean) \n",
    "\n",
    "MurderRate_mean = data.MurderRate.mean() \n",
    "print (\"\\nMurderRate Mean : \", MurderRate_mean) \n"
   ]
  },
  {
   "cell_type": "code",
   "execution_count": 22,
   "id": "2e8296b4-b713-416f-9c5a-124a3a6d0c2d",
   "metadata": {},
   "outputs": [
    {
     "name": "stdout",
     "output_type": "stream",
     "text": [
      "Population trimmed mean:  5202503.625\n",
      "\n",
      "MurderRate trimmed mean:  5.3875\n"
     ]
    }
   ],
   "source": [
    "# Trimmed mean\n",
    "# Mean after discarding top and \n",
    "# bottom 10 % values eliminating outliers \n",
    "\n",
    "population_TM = trim_mean(data.Population, 0.1) \n",
    "print (\"Population trimmed mean: \", population_TM) \n",
    "\n",
    "murder_TM = trim_mean(data.MurderRate, 0.1) \n",
    "print (\"\\nMurderRate trimmed mean: \", murder_TM) \n"
   ]
  },
  {
   "cell_type": "code",
   "execution_count": 23,
   "id": "29060265-459d-42ac-af33-9fa01264ae43",
   "metadata": {},
   "outputs": [
    {
     "name": "stdout",
     "output_type": "stream",
     "text": [
      "Weighted MurderRate Mean:  6.638726171160242\n"
     ]
    }
   ],
   "source": [
    "# Weighted Mean\n",
    "# here murder rate is weighed as per  \n",
    "# the state population \n",
    "  \n",
    "murderRate_WM = np.average(data.MurderRate, weights = data.Population) \n",
    "print (\"Weighted MurderRate Mean: \", murderRate_WM) "
   ]
  },
  {
   "cell_type": "code",
   "execution_count": 24,
   "id": "27bdda16-fc3e-4a2d-b4f1-c6adfd437a04",
   "metadata": {},
   "outputs": [
    {
     "name": "stdout",
     "output_type": "stream",
     "text": [
      "Population median :  4577315.0\n",
      "\n",
      "MurderRate median :  5.35\n"
     ]
    }
   ],
   "source": [
    "# Median\n",
    "Population_median = data.Population.median() \n",
    "print (\"Population median : \", Population_median) \n",
    "  \n",
    "MurderRate_median = data.MurderRate.median() \n",
    "print (\"\\nMurderRate median : \", MurderRate_median) "
   ]
  },
  {
   "cell_type": "code",
   "execution_count": null,
   "id": "025a35d1-b68c-4c10-b8ab-dc00f5a13043",
   "metadata": {},
   "outputs": [],
   "source": []
  }
 ],
 "metadata": {
  "kernelspec": {
   "display_name": "Python 3 (ipykernel)",
   "language": "python",
   "name": "python3"
  },
  "language_info": {
   "codemirror_mode": {
    "name": "ipython",
    "version": 3
   },
   "file_extension": ".py",
   "mimetype": "text/x-python",
   "name": "python",
   "nbconvert_exporter": "python",
   "pygments_lexer": "ipython3",
   "version": "3.12.7"
  }
 },
 "nbformat": 4,
 "nbformat_minor": 5
}
