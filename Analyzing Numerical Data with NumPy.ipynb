{
 "cells": [
  {
   "cell_type": "markdown",
   "id": "e919d7e9-72e0-4a09-bb16-9a689997985b",
   "metadata": {},
   "source": [
    "# Creating NumPy Array\n",
    "# NumPy arrays can be created in multiple ways, with various ranks.\n",
    "# It can also be created with the use of different data types like lists, tuples, etc."
   ]
  },
  {
   "cell_type": "code",
   "execution_count": 1,
   "id": "b9ec6bf2-7982-4576-9cf3-ea8c3ac07a20",
   "metadata": {},
   "outputs": [
    {
     "name": "stdout",
     "output_type": "stream",
     "text": [
      "Matrix b : \n",
      " [1065353216 1065353216]\n",
      "\n",
      "Matrix a : \n",
      " [[ 1991866174  1716533774]\n",
      " [-1044313850  1597750771]]\n",
      "\n",
      "Matrix c : \n",
      " [[0.00000000e+000 0.00000000e+000 0.00000000e+000]\n",
      " [0.00000000e+000 0.00000000e+000 8.95246950e-321]\n",
      " [0.00000000e+000 1.09919382e-311 1.10114433e-311]]\n"
     ]
    }
   ],
   "source": [
    "import numpy as np\n",
    " \n",
    "b = np.empty(2, dtype = int)\n",
    "print(\"Matrix b : \\n\", b)\n",
    " \n",
    "a = np.empty([2, 2], dtype = int)\n",
    "print(\"\\nMatrix a : \\n\", a)\n",
    " \n",
    "c = np.empty([3, 3])\n",
    "print(\"\\nMatrix c : \\n\", c)"
   ]
  },
  {
   "cell_type": "code",
   "execution_count": 2,
   "id": "9f51d129-1130-4284-9898-b9b94a21f8a2",
   "metadata": {},
   "outputs": [
    {
     "name": "stdout",
     "output_type": "stream",
     "text": [
      "Matrix b : \n",
      " [0 0]\n",
      "\n",
      "Matrix a : \n",
      " [[0 0]\n",
      " [0 0]]\n",
      "\n",
      "Matrix c : \n",
      " [[0. 0. 0.]\n",
      " [0. 0. 0.]\n",
      " [0. 0. 0.]]\n"
     ]
    }
   ],
   "source": [
    "b = np.zeros(2, dtype = int)\n",
    "print(\"Matrix b : \\n\", b)\n",
    " \n",
    "a = np.zeros([2, 2], dtype = int)\n",
    "print(\"\\nMatrix a : \\n\", a)\n",
    " \n",
    "c = np.zeros([3, 3])\n",
    "print(\"\\nMatrix c : \\n\", c)"
   ]
  },
  {
   "cell_type": "raw",
   "id": "0ff73793-5faf-40bf-a06f-e00e7f283151",
   "metadata": {},
   "source": [
    "Arithmetic Operations\n",
    "Addition:"
   ]
  },
  {
   "cell_type": "code",
   "execution_count": 6,
   "id": "c0e314c2-6f22-437a-8c9a-227edbe29852",
   "metadata": {},
   "outputs": [
    {
     "name": "stdout",
     "output_type": "stream",
     "text": [
      "[  7  77  23 130]\n",
      "[  7  77  23 130]\n",
      "[  8  79  26 134]\n",
      "[  7  77  23 130]\n"
     ]
    }
   ],
   "source": [
    "# Defining both the matrices\n",
    "a = np.array([5, 72, 13, 100])\n",
    "b = np.array([2, 5, 10, 30])\n",
    "\n",
    "# Performing addition using arithmetic operator\n",
    "add = a+b\n",
    "print(add_ans)\n",
    "\n",
    "# Performing addition using numpy function\n",
    "add = np.add(a, b)\n",
    "print(add)\n",
    "\n",
    "# The same functions and operations can be used for\n",
    "# multiple matrices\n",
    "c = np.array([1, 2, 3, 4])\n",
    "add = a+b+c\n",
    "print(add)\n",
    "\n",
    "add = np.add(a, b, c)\n",
    "print(add)"
   ]
  },
  {
   "cell_type": "raw",
   "id": "5af14938-cedd-4bce-a217-fc4410209e78",
   "metadata": {},
   "source": [
    "Subtraction:"
   ]
  },
  {
   "cell_type": "code",
   "execution_count": 7,
   "id": "b73dc428-3d38-467e-aa47-a6154e1201b1",
   "metadata": {},
   "outputs": [
    {
     "name": "stdout",
     "output_type": "stream",
     "text": [
      "[ 3 67  3 70]\n",
      "[ 3 67  3 70]\n"
     ]
    }
   ],
   "source": [
    "# Defining both the matrices\n",
    "a = np.array([5, 72, 13, 100])\n",
    "b = np.array([2, 5, 10, 30])\n",
    "\n",
    "# Performing subtraction using arithmetic operator\n",
    "sub = a-b\n",
    "print(sub)\n",
    "\n",
    "# Performing subtraction using numpy function\n",
    "sub = np.subtract(a, b)\n",
    "print(sub)"
   ]
  },
  {
   "cell_type": "raw",
   "id": "9122f1ea-acd9-4b9a-92c3-481e1d1d8f07",
   "metadata": {},
   "source": [
    "Multiplication:"
   ]
  },
  {
   "cell_type": "code",
   "execution_count": 8,
   "id": "ea77d461-5d17-4ae8-ba82-8685de7b1f51",
   "metadata": {},
   "outputs": [
    {
     "name": "stdout",
     "output_type": "stream",
     "text": [
      "[  10  360  130 3000]\n",
      "[  10  360  130 3000]\n"
     ]
    }
   ],
   "source": [
    "# Defining both the matrices\n",
    "a = np.array([5, 72, 13, 100])\n",
    "b = np.array([2, 5, 10, 30])\n",
    "\n",
    "# Performing multiplication using arithmetic\n",
    "# operator\n",
    "mul = a*b\n",
    "print(mul)\n",
    "\n",
    "# Performing multiplication using numpy function\n",
    "mul = np.multiply(a, b)\n",
    "print(mul)"
   ]
  },
  {
   "cell_type": "raw",
   "id": "ae216d6e-8900-416b-9061-0a062827b295",
   "metadata": {},
   "source": [
    "Division:"
   ]
  },
  {
   "cell_type": "code",
   "execution_count": 12,
   "id": "ff2fbef4-e0fc-4e92-a7cf-c90178879e92",
   "metadata": {},
   "outputs": [
    {
     "name": "stdout",
     "output_type": "stream",
     "text": [
      "[ 2.5        14.4         1.3         3.33333333]\n",
      "[ 2.5        14.4         1.3         3.33333333]\n"
     ]
    }
   ],
   "source": [
    "# Defining both the matrices\n",
    "a = np.array([5, 72, 13, 100])\n",
    "b = np.array([2, 5, 10, 30])\n",
    "\n",
    "# Performing division using arithmetic operators\n",
    "div = a/b\n",
    "print(div)\n",
    "\n",
    "# Performing division using numpy functions\n",
    "div = np.divide(a, b)\n",
    "print(div)"
   ]
  },
  {
   "cell_type": "markdown",
   "id": "308bff1a-c699-4792-9849-71837b66b241",
   "metadata": {},
   "source": [
    "<!-- NumPy Array Indexing -->"
   ]
  },
  {
   "cell_type": "markdown",
   "id": "27cfb12c-0cf5-4100-81e1-609f1d9e9c96",
   "metadata": {},
   "source": [
    "NumPy Array Indexing"
   ]
  },
  {
   "cell_type": "raw",
   "id": "6fb7af75-bbe8-4f80-986b-e22eaac0efae",
   "metadata": {},
   "source": [
    "IT can be done in NumPy by using an array as an index. In the case of the slice, a view or shallow copy of the array is returned but in the index array, a copy of the original array is returned. Numpy arrays can be indexed with other arrays or any other sequence with the exception of tuples. The last element is indexed by -1 second last by -2 and so on."
   ]
  },
  {
   "cell_type": "code",
   "execution_count": 14,
   "id": "0799bd0f-0a99-46ac-81ad-90a82090f6bd",
   "metadata": {},
   "outputs": [
    {
     "name": "stdout",
     "output_type": "stream",
     "text": [
      "\n",
      " A sequential array with a negative step: \n",
      " [10  8  6  4  2]\n",
      "\n",
      " Elements at these indices are:\n",
      " [4 8 6]\n"
     ]
    }
   ],
   "source": [
    "# Python NumPy Array Indexing\n",
    "\n",
    "a = np.arange(10, 1, -2) \n",
    "print(\"\\n A sequential array with a negative step: \\n\",a)\n",
    "\n",
    "newarr = a[np.array([3, 1, 2 ])]\n",
    "print(\"\\n Elements at these indices are:\\n\",newarr)"
   ]
  },
  {
   "cell_type": "raw",
   "id": "bb4b7500-629c-4c06-9e9c-a8f4d9376967",
   "metadata": {},
   "source": [
    "# NumPy Array Slicing\n",
    "Examine the syntax x[obj], in which obj is the index and x is the array. In the case of basic slicing, the slice object is the index. Basic slicing takes place when the object is:\n",
    "\n",
    "A slice object with the following form begin: Stop: step an integer\n",
    "\n",
    "or a pair of numbers and slice objects\n",
    "Every array created with basic slicing is always the original array's view.\n",
    "\n"
   ]
  },
  {
   "cell_type": "code",
   "execution_count": 15,
   "id": "72a957f2-cf38-4d03-b950-ef66de980101",
   "metadata": {},
   "outputs": [
    {
     "name": "stdout",
     "output_type": "stream",
     "text": [
      "\n",
      " Array is:\n",
      "  [ 0  1  2  3  4  5  6  7  8  9 10 11 12 13 14 15 16 17 18 19]\n",
      "\n",
      " a[-8:17:1] =  [12 13 14 15 16]\n",
      "\n",
      " a[10:] =  [10 11 12 13 14 15 16 17 18 19]\n"
     ]
    }
   ],
   "source": [
    "a = np.arange(20)\n",
    "print(\"\\n Array is:\\n \",a)\n",
    "\n",
    "print(\"\\n a[-8:17:1] = \",a[-8:17:1])\n",
    "\n",
    "print(\"\\n a[10:] = \",a[10:])"
   ]
  },
  {
   "cell_type": "code",
   "execution_count": 16,
   "id": "b8f14303-2db5-44fd-8b3e-8d8726a403ad",
   "metadata": {},
   "outputs": [
    {
     "name": "stdout",
     "output_type": "stream",
     "text": [
      "[[ 2  5]\n",
      " [ 8 11]]\n"
     ]
    }
   ],
   "source": [
    "b = np.array([[[1, 2, 3],[4, 5, 6]],\n",
    "            [[7, 8, 9],[10, 11, 12]]])\n",
    "\n",
    "print(b[...,1])"
   ]
  },
  {
   "cell_type": "markdown",
   "id": "0b162bf4-a534-410e-a3ce-005178a09ccb",
   "metadata": {},
   "source": [
    "NumPy Array Broadcasting"
   ]
  },
  {
   "cell_type": "raw",
   "id": "adc94117-30f5-417e-8d94-b7aacbbf1558",
   "metadata": {},
   "source": [
    "The way numpy handles arrays with different dimensions during arithmetic operations, which results in certain constraints, is known as broadcasting. The smaller array is broadcast across the larger array so that their shapes are consistent. "
   ]
  },
  {
   "cell_type": "raw",
   "id": "7ee1fba7-2ac3-4a86-a3b3-7b1074e991aa",
   "metadata": {},
   "source": [
    "Assume that each data is a list of parameters and that we have a sizable data set. Each row in a 2-D array in Numpy represents a data point, and the total number of rows indicates the size of the data set. If we were to apply some kind of scaling to all of these data, each parameter would receive its own scaling factor, or, to put it another way, each parameter would be multiplied by a certain factor."
   ]
  },
  {
   "cell_type": "raw",
   "id": "a3513e7c-2650-4dca-831c-b9a304a96553",
   "metadata": {},
   "source": [
    "For the sake of clarity, let's use a macro-nutrient breakdown to determine the number of calories in foods. Protein (4 CPG), carbohydrates (4 CPG), and lipids (9 CPG) make up the caloric components of diet. Therefore, if we list a few foods (our data) and the macronutrient breakdown (parameters) for each food, we can use scaling to calculate the caloric breakdown of each food item by multiplying each nutrient by its caloric value."
   ]
  },
  {
   "cell_type": "raw",
   "id": "e1b6844c-0528-4930-9d39-b4279f13425e",
   "metadata": {},
   "source": [
    "For the sake of clarity, let's use a macro-nutrient breakdown to determine the number of calories in foods. Protein (4 CPG), carbohydrates (4 CPG), and lipids (9 CPG) make up the caloric components of diet. Therefore, if we list a few foods (our data) and the macronutrient breakdown (parameters) for each food, we can use scaling to calculate the caloric breakdown of each food item by multiplying each nutrient by its caloric value."
   ]
  },
  {
   "cell_type": "code",
   "execution_count": 18,
   "id": "b656ef31-357e-48ad-8b8e-c11a65a4b92d",
   "metadata": {},
   "outputs": [
    {
     "data": {
      "image/png": "[encoded data removed]",
      "text/plain": [
       "<Figure size 1000x600 with 1 Axes>"
      ]
     },
     "metadata": {},
     "output_type": "display_data"
    },
    {
     "name": "stdout",
     "output_type": "stream",
     "text": [
      "         Food  Fats (g)  Protein (g)  Carbs (g)  Fats (cal)  Protein (cal)  \\\n",
      "0       Apple       0.8          2.9        3.9         7.2           11.6   \n",
      "1      Banana      52.4         23.6       36.5       471.6           94.4   \n",
      "2  Raw Almond      55.2         31.7       23.9       496.8          126.8   \n",
      "3     Cookies      14.4         11.0        4.9       129.6           44.0   \n",
      "\n",
      "   Carbs (cal)  Total Calories  \n",
      "0         15.6            34.4  \n",
      "1        146.0           712.0  \n",
      "2         95.6           719.2  \n",
      "3         19.6           193.2  \n"
     ]
    }
   ],
   "source": [
    "#This is an Example\n",
    "import numpy as np\n",
    "import pandas as pd\n",
    "import matplotlib.pyplot as plt\n",
    "\n",
    "# Data: macro-nutrient breakdown (in grams)\n",
    "data = {\n",
    "    \"Food\": [\"Apple\", \"Banana\", \"Raw Almond\", \"Cookies\"],\n",
    "    \"Fats (g)\": [0.8, 52.4, 55.2, 14.4],\n",
    "    \"Protein (g)\": [2.9, 23.6, 31.7, 11],\n",
    "    \"Carbs (g)\": [3.9, 36.5, 23.9, 4.9],\n",
    "}\n",
    "\n",
    "# Caloric values per gram for each macro-nutrient\n",
    "calories_per_gram = np.array([9, 4, 4])\n",
    "\n",
    "# Convert data to a DataFrame\n",
    "df = pd.DataFrame(data)\n",
    "\n",
    "# Extract macro-nutrient values into a NumPy array\n",
    "macro_values = df.iloc[:, 1:].values  # Select only the numeric columns (fats, protein, carbs)\n",
    "\n",
    "# Calculate caloric breakdown for each food item\n",
    "caloric_breakdown = macro_values * calories_per_gram\n",
    "\n",
    "# Add the caloric breakdown to the DataFrame\n",
    "df[\"Fats (cal)\"] = caloric_breakdown[:, 0]\n",
    "df[\"Protein (cal)\"] = caloric_breakdown[:, 1]\n",
    "df[\"Carbs (cal)\"] = caloric_breakdown[:, 2]\n",
    "\n",
    "df[\"Total Calories\"] = df[[\"Fats (cal)\", \"Protein (cal)\", \"Carbs (cal)\"]].sum(axis=1)\n",
    "\n",
    "# Plot the data\n",
    "fig, ax = plt.subplots(figsize=(10, 6))\n",
    "\n",
    "# Bar plot for caloric breakdown\n",
    "x = np.arange(len(df))  # Positions for each food item\n",
    "width = 0.25\n",
    "\n",
    "bars1 = ax.bar(x - width, df[\"Fats (cal)\"], width, label=\"Fats (cal)\", color=\"gold\")\n",
    "bars2 = ax.bar(x, df[\"Protein (cal)\"], width, label=\"Protein (cal)\", color=\"skyblue\")\n",
    "bars3 = ax.bar(x + width, df[\"Carbs (cal)\"], width, label=\"Carbs (cal)\", color=\"lightgreen\")\n",
    "\n",
    "# Add labels and title\n",
    "ax.set_xlabel(\"Food\", fontsize=12)\n",
    "ax.set_ylabel(\"Calories\", fontsize=12)\n",
    "ax.set_title(\"Caloric Breakdown by Macro-Nutrients\", fontsize=14)\n",
    "ax.set_xticks(x)\n",
    "ax.set_xticklabels(df[\"Food\"], fontsize=10)\n",
    "ax.legend()\n",
    "\n",
    "# Show plot\n",
    "plt.tight_layout()\n",
    "plt.show()\n",
    "\n",
    "print(df)\n"
   ]
  },
  {
   "cell_type": "code",
   "execution_count": 19,
   "id": "86b83cf7-a726-4946-b4e9-2e90212e604e",
   "metadata": {},
   "outputs": [
    {
     "name": "stdout",
     "output_type": "stream",
     "text": [
      "[[  2.4   8.7  31.2]\n",
      " [157.2  70.8 292. ]\n",
      " [165.6  95.1 191.2]\n",
      " [ 43.2  33.   39.2]]\n"
     ]
    }
   ],
   "source": [
    "# Let’s see a naive way of producing this computation with Numpy:\n",
    "macros = np.array([\n",
    "    [0.8, 2.9, 3.9],\n",
    "    [52.4, 23.6, 36.5],\n",
    "    [55.2, 31.7, 23.9],\n",
    "    [14.4, 11, 4.9]\n",
    "])\n",
    "\n",
    "cal_per_macro = np.array([3, 3, 8])\n",
    "\n",
    "result = macros * cal_per_macro\n",
    "\n",
    "print(result)"
   ]
  },
  {
   "cell_type": "raw",
   "id": "7632a1b9-5fef-489c-956d-f9b8929553d8",
   "metadata": {},
   "source": [
    "Broadcasting Rules: Broadcasting two arrays together follow these rules:\n",
    "1) In the event that the arrays are not of the same rank, add 1s to the lower rank array's form until both shapes are the same length.\n",
    "2) If both arrays are the same size in a dimension or if one of the arrays is size 1 in that dimension, then the two arrays are compatible in that dimension.\n",
    "3) If the arrays are compatible with all dimensions, they can be broadcast concurrently.\n",
    "4) Each array acts as though it had a shape equal to the element-wise maximum of the shapes of the two input arrays after broadcasting.\n",
    "5) The first array behaves as though it had been copied along any dimension where one array has a size of 1 and the other array has a size larger than 1.\n"
   ]
  },
  {
   "cell_type": "code",
   "execution_count": 20,
   "id": "44bad9dd-a0be-41b0-8d36-4b9f505f2aeb",
   "metadata": {},
   "outputs": [
    {
     "name": "stdout",
     "output_type": "stream",
     "text": [
      "[[ 540  660]\n",
      " [1080 1320]\n",
      " [1620 1980]]\n",
      "[[ 24  46  69]\n",
      " [ 57  79 102]]\n",
      "[[ 57  67  78]\n",
      " [100 110 121]]\n",
      "[[ 24  44  66]\n",
      " [ 90 110 132]]\n"
     ]
    }
   ],
   "source": [
    "v = np.array([12, 24, 36])\n",
    "w = np.array([45, 55])\n",
    "\n",
    "print(np.reshape(v, (3, 1)) * w)\n",
    "\n",
    "X = np.array([[12, 22, 33], [45, 55, 66]])\n",
    "\n",
    "print(X + v)\n",
    "\n",
    "print((X.T + w).T)\n",
    "\n",
    "print(X * 2)"
   ]
  },
  {
   "cell_type": "markdown",
   "id": "2cc43da9-dbfd-475b-9bf9-6faa1cff757b",
   "metadata": {},
   "source": [
    "Analyzing Data Using Pandas"
   ]
  },
  {
   "cell_type": "code",
   "execution_count": 21,
   "id": "8979c446-9471-426d-8668-15b58f0dd7ec",
   "metadata": {},
   "outputs": [],
   "source": [
    "import pandas as pd"
   ]
  },
  {
   "cell_type": "raw",
   "id": "ad6aa71a-92a5-4712-a722-a544b6fb8a94",
   "metadata": {},
   "source": [
    "In this context, \"pd\" is used as an alias for the Pandas. However, using the alias to import the library is not required; it only makes it easier to write less code each time a function or property is invoked. Two data structures are typically offered by pandas for data manipulation. These include: \n",
    "1)Series\n",
    "2)Dataframe                                                                                                                                                                                                                                                      "
   ]
  },
  {
   "cell_type": "raw",
   "id": "366bd033-0b28-46c8-b548-59a0907b2507",
   "metadata": {},
   "source": [
    "1)Series: \n",
    "\n",
    "Pandas Series is a one-dimensional labeled array capable of holding data of any type (integer, string, float, python objects, etc.). The axis labels are collectively called indexes. Pandas Series is nothing but a column in an excel sheet. Labels need not be unique but must be a hashable type. The object supports both integer and label-based indexing and provides a host of methods for performing operations involving the index.\n",
    "It can be created using the Series() function by loading the dataset from the existing storage like SQL, Database, CSV Files, Excel Files, etc., or from data structures like lists, dictionaries, etc."
   ]
  },
  {
   "cell_type": "code",
   "execution_count": 40,
   "id": "12216dbe-18a2-42c0-a16d-d530547e050f",
   "metadata": {},
   "outputs": [
    {
     "name": "stdout",
     "output_type": "stream",
     "text": [
      "Series([], dtype: object)\n",
      "0    g\n",
      "1    e\n",
      "2    e\n",
      "3    k\n",
      "4    s\n",
      "dtype: object\n"
     ]
    }
   ],
   "source": [
    "\n",
    "import pandas as pd\n",
    "import numpy as np\n",
    "\n",
    "series = pd.Series(dtype=\"object\")\n",
    "\n",
    "print(series)\n",
    "\n",
    "data = np.array(['g', 'e', 'e', 'k', 's'])\n",
    "\n",
    "series = pd.Series(data)\n",
    "print(series)"
   ]
  },
  {
   "cell_type": "raw",
   "id": "2b1f01c7-206a-4548-8b99-0e97b2b82530",
   "metadata": {},
   "source": [
    "2) Dataframe:\n",
    "\n",
    "A two-dimensional tabular data structure with labelled axes (rows and columns), Pandas DataFrame is size-mutable and potentially heterogeneous. A data frame is a two-dimensional data structure, meaning that the rows and columns of data are tabularly aligned. The data, rows, and columns are the three main parts of a pandas dataframe.\n",
    "It can be created using the Dataframe() method and just like a series, it can also be from different file types and data structures."
   ]
  },
  {
   "cell_type": "code",
   "execution_count": 42,
   "id": "5a0fb98f-64db-4fd2-a20b-1807b6515c0a",
   "metadata": {},
   "outputs": [
    {
     "name": "stdout",
     "output_type": "stream",
     "text": [
      "Empty DataFrame\n",
      "Columns: []\n",
      "Index: []\n",
      "    Words\n",
      "0   Geeks\n",
      "1     For\n",
      "2   Geeks\n",
      "3      is\n",
      "4  portal\n",
      "5     for\n",
      "6   Geeks\n"
     ]
    }
   ],
   "source": [
    "import pandas as pd\n",
    "\n",
    "df = pd.DataFrame()\n",
    "print(df)\n",
    "\n",
    "lst = ['Geeks', 'For', 'Geeks', 'is', 'portal', 'for', 'Geeks']\n",
    "\n",
    "df = pd.DataFrame(lst, columns=['Words'])\n",
    "\n",
    "print(df)"
   ]
  },
  {
   "cell_type": "code",
   "execution_count": 51,
   "id": "4c98c02a-cb33-48d6-a819-ca350d1d3f68",
   "metadata": {},
   "outputs": [
    {
     "data": {
      "text/html": [
       "<div>\n",
       "<style scoped>\n",
       "    .dataframe tbody tr th:only-of-type {\n",
       "        vertical-align: middle;\n",
       "    }\n",
       "\n",
       "    .dataframe tbody tr th {\n",
       "        vertical-align: top;\n",
       "    }\n",
       "\n",
       "    .dataframe thead th {\n",
       "        text-align: right;\n",
       "    }\n",
       "</style>\n",
       "<table border=\"1\" class=\"dataframe\">\n",
       "  <thead>\n",
       "    <tr style=\"text-align: right;\">\n",
       "      <th></th>\n",
       "      <th>First Name</th>\n",
       "      <th>Last Name</th>\n",
       "      <th>Sex</th>\n",
       "      <th>Email</th>\n",
       "      <th>Date of birth</th>\n",
       "      <th>Job Title</th>\n",
       "    </tr>\n",
       "  </thead>\n",
       "  <tbody>\n",
       "    <tr>\n",
       "      <th>0</th>\n",
       "      <td>Shelby</td>\n",
       "      <td>Terrell</td>\n",
       "      <td>Male</td>\n",
       "      <td>elijah57@example.net</td>\n",
       "      <td>26-10-1945</td>\n",
       "      <td>Games developer</td>\n",
       "    </tr>\n",
       "    <tr>\n",
       "      <th>1</th>\n",
       "      <td>Phillip</td>\n",
       "      <td>Summers</td>\n",
       "      <td>Female</td>\n",
       "      <td>bethany14@example.com</td>\n",
       "      <td>24-03-1910</td>\n",
       "      <td>Phytotherapist</td>\n",
       "    </tr>\n",
       "    <tr>\n",
       "      <th>2</th>\n",
       "      <td>Kristine</td>\n",
       "      <td>Travis</td>\n",
       "      <td>Male</td>\n",
       "      <td>bthompson@example.com</td>\n",
       "      <td>02-07-1992</td>\n",
       "      <td>Homeopath</td>\n",
       "    </tr>\n",
       "    <tr>\n",
       "      <th>3</th>\n",
       "      <td>Yesenia</td>\n",
       "      <td>Martinez</td>\n",
       "      <td>Male</td>\n",
       "      <td>kaitlinkaiser@example.com</td>\n",
       "      <td>03-08-2017</td>\n",
       "      <td>Market researcher</td>\n",
       "    </tr>\n",
       "    <tr>\n",
       "      <th>4</th>\n",
       "      <td>Lori</td>\n",
       "      <td>Todd</td>\n",
       "      <td>Male</td>\n",
       "      <td>buchananmanuel@example.net</td>\n",
       "      <td>01-12-1938</td>\n",
       "      <td>Veterinary surgeon</td>\n",
       "    </tr>\n",
       "  </tbody>\n",
       "</table>\n",
       "</div>"
      ],
      "text/plain": [
       "  First Name Last Name     Sex                       Email Date of birth  \\\n",
       "0     Shelby   Terrell    Male        elijah57@example.net    26-10-1945   \n",
       "1    Phillip   Summers  Female       bethany14@example.com    24-03-1910   \n",
       "2   Kristine    Travis    Male       bthompson@example.com    02-07-1992   \n",
       "3    Yesenia  Martinez    Male   kaitlinkaiser@example.com    03-08-2017   \n",
       "4       Lori      Todd    Male  buchananmanuel@example.net    01-12-1938   \n",
       "\n",
       "            Job Title  \n",
       "0     Games developer  \n",
       "1      Phytotherapist  \n",
       "2           Homeopath  \n",
       "3   Market researcher  \n",
       "4  Veterinary surgeon  "
      ]
     },
     "execution_count": 51,
     "metadata": {},
     "output_type": "execute_result"
    }
   ],
   "source": [
    "import pandas as pd\n",
    "\n",
    "df = pd.read_csv(\"D:/Data Analytics/Data Analysis with Python/people_data.csv\")\n",
    "\n",
    "df.head()\n",
    "\n",
    "# # Assuming your file is named 'your_data.csv'\n",
    "# file_path = \"D:/Data Analytics/Data Analysis with Python/people_data.csv\" \n",
    "\n",
    "# # Read the CSV file into a pandas DataFrame\n",
    "# df = pd.read_csv(file_path)\n",
    "\n",
    "# # Now you can work with the DataFrame (df)\n",
    "# print(df.head())  # Print the first few rows"
   ]
  },
  {
   "cell_type": "code",
   "execution_count": 54,
   "id": "c33e7ee4-acf6-4714-b581-fe573007340f",
   "metadata": {},
   "outputs": [
    {
     "data": {
      "text/html": [
       "<div>\n",
       "<style scoped>\n",
       "    .dataframe tbody tr th:only-of-type {\n",
       "        vertical-align: middle;\n",
       "    }\n",
       "\n",
       "    .dataframe tbody tr th {\n",
       "        vertical-align: top;\n",
       "    }\n",
       "\n",
       "    .dataframe thead th {\n",
       "        text-align: right;\n",
       "    }\n",
       "</style>\n",
       "<table border=\"1\" class=\"dataframe\">\n",
       "  <thead>\n",
       "    <tr style=\"text-align: right;\">\n",
       "      <th></th>\n",
       "      <th>Sex</th>\n",
       "      <th>Job Title</th>\n",
       "      <th>Date of birth</th>\n",
       "    </tr>\n",
       "  </thead>\n",
       "  <tbody>\n",
       "    <tr>\n",
       "      <th>0</th>\n",
       "      <td>Male</td>\n",
       "      <td>Games developer</td>\n",
       "      <td>26-10-1945</td>\n",
       "    </tr>\n",
       "    <tr>\n",
       "      <th>1</th>\n",
       "      <td>Female</td>\n",
       "      <td>Phytotherapist</td>\n",
       "      <td>24-03-1910</td>\n",
       "    </tr>\n",
       "    <tr>\n",
       "      <th>2</th>\n",
       "      <td>Male</td>\n",
       "      <td>Homeopath</td>\n",
       "      <td>02-07-1992</td>\n",
       "    </tr>\n",
       "    <tr>\n",
       "      <th>3</th>\n",
       "      <td>Male</td>\n",
       "      <td>Market researcher</td>\n",
       "      <td>03-08-2017</td>\n",
       "    </tr>\n",
       "    <tr>\n",
       "      <th>4</th>\n",
       "      <td>Male</td>\n",
       "      <td>Veterinary surgeon</td>\n",
       "      <td>01-12-1938</td>\n",
       "    </tr>\n",
       "  </tbody>\n",
       "</table>\n",
       "</div>"
      ],
      "text/plain": [
       "      Sex           Job Title Date of birth\n",
       "0    Male     Games developer    26-10-1945\n",
       "1  Female      Phytotherapist    24-03-1910\n",
       "2    Male           Homeopath    02-07-1992\n",
       "3    Male   Market researcher    03-08-2017\n",
       "4    Male  Veterinary surgeon    01-12-1938"
      ]
     },
     "execution_count": 54,
     "metadata": {},
     "output_type": "execute_result"
    }
   ],
   "source": [
    "# Filtering DataFrame\n",
    "import pandas as pd\n",
    "\n",
    "df = pd.read_csv(\"D:/Data Analytics/Data Analysis with Python/people_data.csv\")\n",
    "\n",
    "df.filter([\"Sex\", \"Job Title\", \"Date of birth\"]).head()\n"
   ]
  },
  {
   "cell_type": "raw",
   "id": "64d3e58f-c770-48c2-b555-5991e0198992",
   "metadata": {},
   "source": [
    "# Sorting DataFrame\n",
    "# Pandas sort_values() can sort the data frame in Ascending or Descending order.\n",
    "# Python Pandas Sorting Dataframe in Ascending Order\n",
    "Parameter: \n",
    "Syntax: DataFrame.sort_values(by, axis=0, ascending=True, inplace=False, kind=’quicksort’, na_position=’last’)\n",
    "by: Column name(s) to sort by (single or list).\n",
    "axis: 0 or ‘index’ for sorting rows; 1 or ‘columns’ for sorting columns.\n",
    "ascending: Boolean; True for ascending, False for descending.\n",
    "inplace: Boolean; if True, modifies the original DataFrame.\n",
    "kind: Sorting algorithm: ‘quicksort’, ‘mergesort’, or ‘heapsort’.\n",
    "na_position: ‘first’ or ‘last’; defines position of NaN values. Default is ‘last’.\n",
    "The output returns a sorted DataFrame with the same dimensions as the original.\n"
   ]
  },
  {
   "cell_type": "code",
   "execution_count": 56,
   "id": "4869fb22-35d9-40be-bcea-29e1d8dc45b3",
   "metadata": {},
   "outputs": [
    {
     "name": "stdout",
     "output_type": "stream",
     "text": [
      "ABC Dataset:\n"
     ]
    },
    {
     "data": {
      "text/html": [
       "<div>\n",
       "<style scoped>\n",
       "    .dataframe tbody tr th:only-of-type {\n",
       "        vertical-align: middle;\n",
       "    }\n",
       "\n",
       "    .dataframe tbody tr th {\n",
       "        vertical-align: top;\n",
       "    }\n",
       "\n",
       "    .dataframe thead th {\n",
       "        text-align: right;\n",
       "    }\n",
       "</style>\n",
       "<table border=\"1\" class=\"dataframe\">\n",
       "  <thead>\n",
       "    <tr style=\"text-align: right;\">\n",
       "      <th></th>\n",
       "      <th>Name</th>\n",
       "      <th>Team</th>\n",
       "      <th>Number</th>\n",
       "      <th>Position</th>\n",
       "      <th>Age</th>\n",
       "      <th>Height</th>\n",
       "      <th>Weight</th>\n",
       "      <th>College</th>\n",
       "      <th>Salary</th>\n",
       "    </tr>\n",
       "  </thead>\n",
       "  <tbody>\n",
       "    <tr>\n",
       "      <th>0</th>\n",
       "      <td>Avery Bradley</td>\n",
       "      <td>Boston Celtics</td>\n",
       "      <td>0.0</td>\n",
       "      <td>PG</td>\n",
       "      <td>25.0</td>\n",
       "      <td>6-2</td>\n",
       "      <td>180.0</td>\n",
       "      <td>Texas</td>\n",
       "      <td>7730337.0</td>\n",
       "    </tr>\n",
       "    <tr>\n",
       "      <th>1</th>\n",
       "      <td>Jae Crowder</td>\n",
       "      <td>Boston Celtics</td>\n",
       "      <td>99.0</td>\n",
       "      <td>SF</td>\n",
       "      <td>25.0</td>\n",
       "      <td>6-6</td>\n",
       "      <td>235.0</td>\n",
       "      <td>Marquette</td>\n",
       "      <td>6796117.0</td>\n",
       "    </tr>\n",
       "    <tr>\n",
       "      <th>2</th>\n",
       "      <td>John Holland</td>\n",
       "      <td>Boston Celtics</td>\n",
       "      <td>30.0</td>\n",
       "      <td>SG</td>\n",
       "      <td>27.0</td>\n",
       "      <td>6-5</td>\n",
       "      <td>205.0</td>\n",
       "      <td>Boston University</td>\n",
       "      <td>NaN</td>\n",
       "    </tr>\n",
       "    <tr>\n",
       "      <th>3</th>\n",
       "      <td>R.J. Hunter</td>\n",
       "      <td>Boston Celtics</td>\n",
       "      <td>28.0</td>\n",
       "      <td>SG</td>\n",
       "      <td>22.0</td>\n",
       "      <td>6-5</td>\n",
       "      <td>185.0</td>\n",
       "      <td>Georgia State</td>\n",
       "      <td>1148640.0</td>\n",
       "    </tr>\n",
       "    <tr>\n",
       "      <th>4</th>\n",
       "      <td>Jonas Jerebko</td>\n",
       "      <td>Boston Celtics</td>\n",
       "      <td>8.0</td>\n",
       "      <td>PF</td>\n",
       "      <td>29.0</td>\n",
       "      <td>6-10</td>\n",
       "      <td>231.0</td>\n",
       "      <td>NaN</td>\n",
       "      <td>5000000.0</td>\n",
       "    </tr>\n",
       "  </tbody>\n",
       "</table>\n",
       "</div>"
      ],
      "text/plain": [
       "            Name            Team  Number Position   Age Height  Weight  \\\n",
       "0  Avery Bradley  Boston Celtics     0.0       PG  25.0    6-2   180.0   \n",
       "1    Jae Crowder  Boston Celtics    99.0       SF  25.0    6-6   235.0   \n",
       "2   John Holland  Boston Celtics    30.0       SG  27.0    6-5   205.0   \n",
       "3    R.J. Hunter  Boston Celtics    28.0       SG  22.0    6-5   185.0   \n",
       "4  Jonas Jerebko  Boston Celtics     8.0       PF  29.0   6-10   231.0   \n",
       "\n",
       "             College     Salary  \n",
       "0              Texas  7730337.0  \n",
       "1          Marquette  6796117.0  \n",
       "2  Boston University        NaN  \n",
       "3      Georgia State  1148640.0  \n",
       "4                NaN  5000000.0  "
      ]
     },
     "metadata": {},
     "output_type": "display_data"
    },
    {
     "name": "stdout",
     "output_type": "stream",
     "text": [
      "\n",
      "Sorted DataFrame:\n"
     ]
    },
    {
     "data": {
      "text/html": [
       "<div>\n",
       "<style scoped>\n",
       "    .dataframe tbody tr th:only-of-type {\n",
       "        vertical-align: middle;\n",
       "    }\n",
       "\n",
       "    .dataframe tbody tr th {\n",
       "        vertical-align: top;\n",
       "    }\n",
       "\n",
       "    .dataframe thead th {\n",
       "        text-align: right;\n",
       "    }\n",
       "</style>\n",
       "<table border=\"1\" class=\"dataframe\">\n",
       "  <thead>\n",
       "    <tr style=\"text-align: right;\">\n",
       "      <th></th>\n",
       "      <th>Name</th>\n",
       "      <th>Team</th>\n",
       "      <th>Number</th>\n",
       "      <th>Position</th>\n",
       "      <th>Age</th>\n",
       "      <th>Height</th>\n",
       "      <th>Weight</th>\n",
       "      <th>College</th>\n",
       "      <th>Salary</th>\n",
       "    </tr>\n",
       "  </thead>\n",
       "  <tbody>\n",
       "    <tr>\n",
       "      <th>152</th>\n",
       "      <td>Aaron Brooks</td>\n",
       "      <td>Chicago Bulls</td>\n",
       "      <td>0.0</td>\n",
       "      <td>PG</td>\n",
       "      <td>31.0</td>\n",
       "      <td>6-0</td>\n",
       "      <td>161.0</td>\n",
       "      <td>Oregon</td>\n",
       "      <td>2250000.0</td>\n",
       "    </tr>\n",
       "    <tr>\n",
       "      <th>356</th>\n",
       "      <td>Aaron Gordon</td>\n",
       "      <td>Orlando Magic</td>\n",
       "      <td>0.0</td>\n",
       "      <td>PF</td>\n",
       "      <td>20.0</td>\n",
       "      <td>6-9</td>\n",
       "      <td>220.0</td>\n",
       "      <td>Arizona</td>\n",
       "      <td>4171680.0</td>\n",
       "    </tr>\n",
       "    <tr>\n",
       "      <th>328</th>\n",
       "      <td>Aaron Harrison</td>\n",
       "      <td>Charlotte Hornets</td>\n",
       "      <td>9.0</td>\n",
       "      <td>SG</td>\n",
       "      <td>21.0</td>\n",
       "      <td>6-6</td>\n",
       "      <td>210.0</td>\n",
       "      <td>Kentucky</td>\n",
       "      <td>525093.0</td>\n",
       "    </tr>\n",
       "    <tr>\n",
       "      <th>404</th>\n",
       "      <td>Adreian Payne</td>\n",
       "      <td>Minnesota Timberwolves</td>\n",
       "      <td>33.0</td>\n",
       "      <td>PF</td>\n",
       "      <td>25.0</td>\n",
       "      <td>6-10</td>\n",
       "      <td>237.0</td>\n",
       "      <td>Michigan State</td>\n",
       "      <td>1938840.0</td>\n",
       "    </tr>\n",
       "    <tr>\n",
       "      <th>312</th>\n",
       "      <td>Al Horford</td>\n",
       "      <td>Atlanta Hawks</td>\n",
       "      <td>15.0</td>\n",
       "      <td>C</td>\n",
       "      <td>30.0</td>\n",
       "      <td>6-10</td>\n",
       "      <td>245.0</td>\n",
       "      <td>Florida</td>\n",
       "      <td>12000000.0</td>\n",
       "    </tr>\n",
       "  </tbody>\n",
       "</table>\n",
       "</div>"
      ],
      "text/plain": [
       "               Name                    Team  Number Position   Age Height  \\\n",
       "152    Aaron Brooks           Chicago Bulls     0.0       PG  31.0    6-0   \n",
       "356    Aaron Gordon           Orlando Magic     0.0       PF  20.0    6-9   \n",
       "328  Aaron Harrison       Charlotte Hornets     9.0       SG  21.0    6-6   \n",
       "404   Adreian Payne  Minnesota Timberwolves    33.0       PF  25.0   6-10   \n",
       "312      Al Horford           Atlanta Hawks    15.0        C  30.0   6-10   \n",
       "\n",
       "     Weight         College      Salary  \n",
       "152   161.0          Oregon   2250000.0  \n",
       "356   220.0         Arizona   4171680.0  \n",
       "328   210.0        Kentucky    525093.0  \n",
       "404   237.0  Michigan State   1938840.0  \n",
       "312   245.0         Florida  12000000.0  "
      ]
     },
     "metadata": {},
     "output_type": "display_data"
    }
   ],
   "source": [
    "import pandas as pd\n",
    "\n",
    "# Load DataFrame from CSV file\n",
    "data = pd.read_csv(\"D:/Data Analytics/Data Analysis with Python/ABC.csv\")\n",
    "print(\"ABC Dataset:\")\n",
    "display(data.head())\n",
    "\n",
    "# Sort the DataFrame by the 'Name' column in ascending order\n",
    "data.sort_values(\"Name\", axis=0, ascending=True, inplace=True, na_position='last')\n",
    "\n",
    "# Display the sorted DataFrame\n",
    "print(\"\\nSorted DataFrame:\")\n",
    "display(data.head())"
   ]
  },
  {
   "cell_type": "code",
   "execution_count": 57,
   "id": "5f8c0962-daa5-4182-89b0-a394a93c515e",
   "metadata": {},
   "outputs": [
    {
     "name": "stdout",
     "output_type": "stream",
     "text": [
      "DataFrame sorted by 'Salary' column by placing NaN values at the top:\n"
     ]
    },
    {
     "data": {
      "text/html": [
       "<div>\n",
       "<style scoped>\n",
       "    .dataframe tbody tr th:only-of-type {\n",
       "        vertical-align: middle;\n",
       "    }\n",
       "\n",
       "    .dataframe tbody tr th {\n",
       "        vertical-align: top;\n",
       "    }\n",
       "\n",
       "    .dataframe thead th {\n",
       "        text-align: right;\n",
       "    }\n",
       "</style>\n",
       "<table border=\"1\" class=\"dataframe\">\n",
       "  <thead>\n",
       "    <tr style=\"text-align: right;\">\n",
       "      <th></th>\n",
       "      <th>Name</th>\n",
       "      <th>Team</th>\n",
       "      <th>Number</th>\n",
       "      <th>Position</th>\n",
       "      <th>Age</th>\n",
       "      <th>Height</th>\n",
       "      <th>Weight</th>\n",
       "      <th>College</th>\n",
       "      <th>Salary</th>\n",
       "    </tr>\n",
       "  </thead>\n",
       "  <tbody>\n",
       "    <tr>\n",
       "      <th>2</th>\n",
       "      <td>John Holland</td>\n",
       "      <td>Boston Celtics</td>\n",
       "      <td>30.0</td>\n",
       "      <td>SG</td>\n",
       "      <td>27.0</td>\n",
       "      <td>6-5</td>\n",
       "      <td>205.0</td>\n",
       "      <td>Boston University</td>\n",
       "      <td>NaN</td>\n",
       "    </tr>\n",
       "    <tr>\n",
       "      <th>46</th>\n",
       "      <td>Elton Brand</td>\n",
       "      <td>Philadelphia 76ers</td>\n",
       "      <td>42.0</td>\n",
       "      <td>PF</td>\n",
       "      <td>37.0</td>\n",
       "      <td>6-9</td>\n",
       "      <td>254.0</td>\n",
       "      <td>Duke</td>\n",
       "      <td>NaN</td>\n",
       "    </tr>\n",
       "    <tr>\n",
       "      <th>171</th>\n",
       "      <td>Dahntay Jones</td>\n",
       "      <td>Cleveland Cavaliers</td>\n",
       "      <td>30.0</td>\n",
       "      <td>SG</td>\n",
       "      <td>35.0</td>\n",
       "      <td>6-6</td>\n",
       "      <td>225.0</td>\n",
       "      <td>Duke</td>\n",
       "      <td>NaN</td>\n",
       "    </tr>\n",
       "    <tr>\n",
       "      <th>264</th>\n",
       "      <td>Jordan Farmar</td>\n",
       "      <td>Memphis Grizzlies</td>\n",
       "      <td>4.0</td>\n",
       "      <td>PG</td>\n",
       "      <td>29.0</td>\n",
       "      <td>6-2</td>\n",
       "      <td>180.0</td>\n",
       "      <td>UCLA</td>\n",
       "      <td>NaN</td>\n",
       "    </tr>\n",
       "    <tr>\n",
       "      <th>269</th>\n",
       "      <td>Ray McCallum</td>\n",
       "      <td>Memphis Grizzlies</td>\n",
       "      <td>5.0</td>\n",
       "      <td>PG</td>\n",
       "      <td>24.0</td>\n",
       "      <td>6-3</td>\n",
       "      <td>190.0</td>\n",
       "      <td>Detroit</td>\n",
       "      <td>NaN</td>\n",
       "    </tr>\n",
       "    <tr>\n",
       "      <th>...</th>\n",
       "      <td>...</td>\n",
       "      <td>...</td>\n",
       "      <td>...</td>\n",
       "      <td>...</td>\n",
       "      <td>...</td>\n",
       "      <td>...</td>\n",
       "      <td>...</td>\n",
       "      <td>...</td>\n",
       "      <td>...</td>\n",
       "    </tr>\n",
       "    <tr>\n",
       "      <th>339</th>\n",
       "      <td>Chris Bosh</td>\n",
       "      <td>Miami Heat</td>\n",
       "      <td>1.0</td>\n",
       "      <td>PF</td>\n",
       "      <td>32.0</td>\n",
       "      <td>6-11</td>\n",
       "      <td>235.0</td>\n",
       "      <td>Georgia Tech</td>\n",
       "      <td>22192730.0</td>\n",
       "    </tr>\n",
       "    <tr>\n",
       "      <th>251</th>\n",
       "      <td>Dwight Howard</td>\n",
       "      <td>Houston Rockets</td>\n",
       "      <td>12.0</td>\n",
       "      <td>C</td>\n",
       "      <td>30.0</td>\n",
       "      <td>6-11</td>\n",
       "      <td>265.0</td>\n",
       "      <td>NaN</td>\n",
       "      <td>22359364.0</td>\n",
       "    </tr>\n",
       "    <tr>\n",
       "      <th>33</th>\n",
       "      <td>Carmelo Anthony</td>\n",
       "      <td>New York Knicks</td>\n",
       "      <td>7.0</td>\n",
       "      <td>SF</td>\n",
       "      <td>32.0</td>\n",
       "      <td>6-8</td>\n",
       "      <td>240.0</td>\n",
       "      <td>Syracuse</td>\n",
       "      <td>22875000.0</td>\n",
       "    </tr>\n",
       "    <tr>\n",
       "      <th>169</th>\n",
       "      <td>LeBron James</td>\n",
       "      <td>Cleveland Cavaliers</td>\n",
       "      <td>23.0</td>\n",
       "      <td>SF</td>\n",
       "      <td>31.0</td>\n",
       "      <td>6-8</td>\n",
       "      <td>250.0</td>\n",
       "      <td>NaN</td>\n",
       "      <td>22970500.0</td>\n",
       "    </tr>\n",
       "    <tr>\n",
       "      <th>109</th>\n",
       "      <td>Kobe Bryant</td>\n",
       "      <td>Los Angeles Lakers</td>\n",
       "      <td>24.0</td>\n",
       "      <td>SF</td>\n",
       "      <td>37.0</td>\n",
       "      <td>6-6</td>\n",
       "      <td>212.0</td>\n",
       "      <td>NaN</td>\n",
       "      <td>25000000.0</td>\n",
       "    </tr>\n",
       "  </tbody>\n",
       "</table>\n",
       "<p>458 rows × 9 columns</p>\n",
       "</div>"
      ],
      "text/plain": [
       "                Name                 Team  Number Position   Age Height  \\\n",
       "2       John Holland       Boston Celtics    30.0       SG  27.0    6-5   \n",
       "46       Elton Brand   Philadelphia 76ers    42.0       PF  37.0    6-9   \n",
       "171    Dahntay Jones  Cleveland Cavaliers    30.0       SG  35.0    6-6   \n",
       "264    Jordan Farmar    Memphis Grizzlies     4.0       PG  29.0    6-2   \n",
       "269     Ray McCallum    Memphis Grizzlies     5.0       PG  24.0    6-3   \n",
       "..               ...                  ...     ...      ...   ...    ...   \n",
       "339       Chris Bosh           Miami Heat     1.0       PF  32.0   6-11   \n",
       "251    Dwight Howard      Houston Rockets    12.0        C  30.0   6-11   \n",
       "33   Carmelo Anthony      New York Knicks     7.0       SF  32.0    6-8   \n",
       "169     LeBron James  Cleveland Cavaliers    23.0       SF  31.0    6-8   \n",
       "109      Kobe Bryant   Los Angeles Lakers    24.0       SF  37.0    6-6   \n",
       "\n",
       "     Weight            College      Salary  \n",
       "2     205.0  Boston University         NaN  \n",
       "46    254.0               Duke         NaN  \n",
       "171   225.0               Duke         NaN  \n",
       "264   180.0               UCLA         NaN  \n",
       "269   190.0            Detroit         NaN  \n",
       "..      ...                ...         ...  \n",
       "339   235.0       Georgia Tech  22192730.0  \n",
       "251   265.0                NaN  22359364.0  \n",
       "33    240.0           Syracuse  22875000.0  \n",
       "169   250.0                NaN  22970500.0  \n",
       "109   212.0                NaN  25000000.0  \n",
       "\n",
       "[458 rows x 9 columns]"
      ]
     },
     "metadata": {},
     "output_type": "display_data"
    }
   ],
   "source": [
    "# Sorting DataFrame with Custom NaN Value Placement\n",
    "# Load DataFrame from CSV file\n",
    "data = pd.read_csv(\"ABC.csv\")\n",
    "\n",
    "# Sort by 'Salary' column, placing NaN values at the top\n",
    "data.sort_values(\"Salary\", axis=0, ascending=True, inplace=True, na_position='first')\n",
    "\n",
    "# Display the sorted DataFrame\n",
    "print(\"DataFrame sorted by 'Salary' column by placing NaN values at the top:\")\n",
    "display(data)"
   ]
  },
  {
   "cell_type": "raw",
   "id": "499bc1d1-a41c-4577-bd4e-dcd9a8a2ee87",
   "metadata": {},
   "source": [
    "Pandas GroupBy\n",
    "\n",
    "Groupby is a pretty simple concept. We can create a grouping of categories and apply a function to the categories. It’s a simple concept but it’s an extremely valuable technique that’s widely used in data science. In real data science projects, you’ll be dealing with large amounts of data and trying things over and over, so for efficiency, we use Groupby concept. Groupby concept is really important because it’s ability to aggregate data efficiently, both in performance and the amount code is magnificent. Groupby mainly refers to a process involving one or more of the following steps they are: \n",
    " \n",
    "Splitting : It is a process in which we split data into group by applying some conditions on datasets.\n",
    "Applying : It is a process in which we apply a function to each group independently\n",
    "Combining : It is a process in which we combine different datasets after applying groupby and results into a data structure"
   ]
  },
  {
   "cell_type": "raw",
   "id": "56f65a22-dbf4-4a43-afa6-f5e758c91400",
   "metadata": {},
   "source": [
    "Splitting Data into Groups\n",
    "\n",
    "Splitting is a process in which we split data into a group by applying some conditions on datasets. In order to split the data, we apply certain conditions on datasets. In order to split the data, we use groupby() function this function is used to split the data into groups based on some criteria. Pandas objects can be split on any of their axes. The abstract definition of grouping is to provide a mapping of labels to group names. Pandas datasets can be split into any of their objects. There are multiple ways to split data like: \n",
    " \n",
    "\n",
    "obj.groupby(key)\n",
    "obj.groupby(key, axis=1)\n",
    "obj.groupby([key1, key2])"
   ]
  },
  {
   "cell_type": "code",
   "execution_count": 64,
   "id": "7d9f00a4-e6b2-43a5-9ebc-d9bcacb60954",
   "metadata": {},
   "outputs": [
    {
     "name": "stdout",
     "output_type": "stream",
     "text": [
      "      Name  Age    Address Qualification\n",
      "0     megh   27     Nagpur           Msc\n",
      "1  manjari   24     Kanpur            MA\n",
      "2   nirman   22  Allahabad           MCA\n",
      "3  bhavesh   32    Kannuaj           Phd\n",
      "4     megh   33    Jaunpur        B.Tech\n",
      "5    laxit   36     Kanpur         B.com\n",
      "6  manjari   27  Allahabad           Msc\n",
      "7      jay   32    Aligarh            MA\n"
     ]
    }
   ],
   "source": [
    "# importing pandas module\n",
    "# Define a dictionary containing employee data \n",
    "data1 = {'Name':['megh', 'manjari', 'nirman', 'bhavesh',\n",
    "                  'megh', 'laxit', 'manjari', 'jay'], \n",
    "        'Age':[27, 24, 22, 32, \n",
    "               33, 36, 27, 32], \n",
    "        'Address':['Nagpur', 'Kanpur', 'Allahabad', 'Kannuaj',\n",
    "                   'Jaunpur', 'Kanpur', 'Allahabad', 'Aligarh'], \n",
    "        'Qualification':['Msc', 'MA', 'MCA', 'Phd',\n",
    "                         'B.Tech', 'B.com', 'Msc', 'MA']} \n",
    "   \n",
    " \n",
    "# Convert the dictionary into DataFrame  \n",
    "df = pd.DataFrame(data1)\n",
    " \n",
    "print(df)"
   ]
  },
  {
   "cell_type": "code",
   "execution_count": 65,
   "id": "900581f2-52d9-4bd7-b562-472a30d7186b",
   "metadata": {},
   "outputs": [
    {
     "name": "stdout",
     "output_type": "stream",
     "text": [
      "{'bhavesh': [3], 'jay': [7], 'laxit': [5], 'manjari': [1, 6], 'megh': [0, 4], 'nirman': [2]}\n"
     ]
    }
   ],
   "source": [
    "# using groupby function\n",
    "# with one key\n",
    "\n",
    "df.groupby('Name')\n",
    "print(df.groupby('Name').groups)"
   ]
  },
  {
   "cell_type": "code",
   "execution_count": 66,
   "id": "3983e627-0f9f-40df-b166-3b5757d26e3b",
   "metadata": {},
   "outputs": [
    {
     "data": {
      "text/html": [
       "<div>\n",
       "<style scoped>\n",
       "    .dataframe tbody tr th:only-of-type {\n",
       "        vertical-align: middle;\n",
       "    }\n",
       "\n",
       "    .dataframe tbody tr th {\n",
       "        vertical-align: top;\n",
       "    }\n",
       "\n",
       "    .dataframe thead th {\n",
       "        text-align: right;\n",
       "    }\n",
       "</style>\n",
       "<table border=\"1\" class=\"dataframe\">\n",
       "  <thead>\n",
       "    <tr style=\"text-align: right;\">\n",
       "      <th></th>\n",
       "      <th>Age</th>\n",
       "      <th>Address</th>\n",
       "      <th>Qualification</th>\n",
       "    </tr>\n",
       "    <tr>\n",
       "      <th>Name</th>\n",
       "      <th></th>\n",
       "      <th></th>\n",
       "      <th></th>\n",
       "    </tr>\n",
       "  </thead>\n",
       "  <tbody>\n",
       "    <tr>\n",
       "      <th>bhavesh</th>\n",
       "      <td>32</td>\n",
       "      <td>Kannuaj</td>\n",
       "      <td>Phd</td>\n",
       "    </tr>\n",
       "    <tr>\n",
       "      <th>jay</th>\n",
       "      <td>32</td>\n",
       "      <td>Aligarh</td>\n",
       "      <td>MA</td>\n",
       "    </tr>\n",
       "    <tr>\n",
       "      <th>laxit</th>\n",
       "      <td>36</td>\n",
       "      <td>Kanpur</td>\n",
       "      <td>B.com</td>\n",
       "    </tr>\n",
       "    <tr>\n",
       "      <th>manjari</th>\n",
       "      <td>24</td>\n",
       "      <td>Kanpur</td>\n",
       "      <td>MA</td>\n",
       "    </tr>\n",
       "    <tr>\n",
       "      <th>megh</th>\n",
       "      <td>27</td>\n",
       "      <td>Nagpur</td>\n",
       "      <td>Msc</td>\n",
       "    </tr>\n",
       "    <tr>\n",
       "      <th>nirman</th>\n",
       "      <td>22</td>\n",
       "      <td>Allahabad</td>\n",
       "      <td>MCA</td>\n",
       "    </tr>\n",
       "  </tbody>\n",
       "</table>\n",
       "</div>"
      ],
      "text/plain": [
       "         Age    Address Qualification\n",
       "Name                                 \n",
       "bhavesh   32    Kannuaj           Phd\n",
       "jay       32    Aligarh            MA\n",
       "laxit     36     Kanpur         B.com\n",
       "manjari   24     Kanpur            MA\n",
       "megh      27     Nagpur           Msc\n",
       "nirman    22  Allahabad           MCA"
      ]
     },
     "execution_count": 66,
     "metadata": {},
     "output_type": "execute_result"
    }
   ],
   "source": [
    "# applying groupby() function to \n",
    "# group the data on Name value. \n",
    "gk = df.groupby('Name') \n",
    "  \n",
    "# Let's print the first entries \n",
    "# in all the groups formed. \n",
    "gk.first()"
   ]
  },
  {
   "cell_type": "code",
   "execution_count": 67,
   "id": "29349d5c-7b87-46df-bc41-7c8253fc121b",
   "metadata": {},
   "outputs": [
    {
     "name": "stdout",
     "output_type": "stream",
     "text": [
      "      Name  Age    Address Qualification\n",
      "0     megh   27     Nagpur           Msc\n",
      "1  manjari   24     Kanpur            MA\n",
      "2   nirman   22  Allahabad           MCA\n",
      "3  bhavesh   32    Kannuaj           Phd\n",
      "4     megh   33    Jaunpur        B.Tech\n",
      "5    laxit   36     Kanpur         B.com\n",
      "6  manjari   27  Allahabad           Msc\n",
      "7      jay   32    Aligarh            MA\n"
     ]
    }
   ],
   "source": [
    "# Grouping data with multiple keys : \n",
    "# importing pandas module\n",
    "# Define a dictionary containing employee data \n",
    "data1 = {'Name':['megh', 'manjari', 'nirman', 'bhavesh',\n",
    "                  'megh', 'laxit', 'manjari', 'jay'], \n",
    "        'Age':[27, 24, 22, 32, \n",
    "               33, 36, 27, 32], \n",
    "        'Address':['Nagpur', 'Kanpur', 'Allahabad', 'Kannuaj',\n",
    "                   'Jaunpur', 'Kanpur', 'Allahabad', 'Aligarh'], \n",
    "        'Qualification':['Msc', 'MA', 'MCA', 'Phd',\n",
    "                         'B.Tech', 'B.com', 'Msc', 'MA']} \n",
    "   \n",
    " \n",
    "# Convert the dictionary into DataFrame  \n",
    "df = pd.DataFrame(data1)\n",
    " \n",
    "print(df)"
   ]
  },
  {
   "cell_type": "code",
   "execution_count": 68,
   "id": "ffc819c0-d553-4402-897a-3d068576a720",
   "metadata": {},
   "outputs": [
    {
     "name": "stdout",
     "output_type": "stream",
     "text": [
      "Original Dataframe\n",
      "      Name  Age    Address Qualification\n",
      "0     megh   27     Nagpur           Msc\n",
      "1  manjari   24     Kanpur            MA\n",
      "2   nirman   22  Allahabad           MCA\n",
      "3  bhavesh   32    Kannuaj           Phd\n",
      "4     megh   33    Jaunpur        B.Tech\n",
      "5    laxit   36     Kanpur         B.com\n",
      "6  manjari   27  Allahabad           Msc\n",
      "7      jay   32    Aligarh            MA\n",
      "After Creating Groups\n"
     ]
    },
    {
     "data": {
      "text/html": [
       "<div>\n",
       "<style scoped>\n",
       "    .dataframe tbody tr th:only-of-type {\n",
       "        vertical-align: middle;\n",
       "    }\n",
       "\n",
       "    .dataframe tbody tr th {\n",
       "        vertical-align: top;\n",
       "    }\n",
       "\n",
       "    .dataframe thead th {\n",
       "        text-align: right;\n",
       "    }\n",
       "</style>\n",
       "<table border=\"1\" class=\"dataframe\">\n",
       "  <thead>\n",
       "    <tr style=\"text-align: right;\">\n",
       "      <th></th>\n",
       "      <th>Age</th>\n",
       "      <th>Address</th>\n",
       "      <th>Qualification</th>\n",
       "    </tr>\n",
       "    <tr>\n",
       "      <th>Name</th>\n",
       "      <th></th>\n",
       "      <th></th>\n",
       "      <th></th>\n",
       "    </tr>\n",
       "  </thead>\n",
       "  <tbody>\n",
       "    <tr>\n",
       "      <th>bhavesh</th>\n",
       "      <td>32</td>\n",
       "      <td>Kannuaj</td>\n",
       "      <td>Phd</td>\n",
       "    </tr>\n",
       "    <tr>\n",
       "      <th>jay</th>\n",
       "      <td>32</td>\n",
       "      <td>Aligarh</td>\n",
       "      <td>MA</td>\n",
       "    </tr>\n",
       "    <tr>\n",
       "      <th>laxit</th>\n",
       "      <td>36</td>\n",
       "      <td>Kanpur</td>\n",
       "      <td>B.com</td>\n",
       "    </tr>\n",
       "    <tr>\n",
       "      <th>manjari</th>\n",
       "      <td>24</td>\n",
       "      <td>Kanpur</td>\n",
       "      <td>MA</td>\n",
       "    </tr>\n",
       "    <tr>\n",
       "      <th>megh</th>\n",
       "      <td>27</td>\n",
       "      <td>Nagpur</td>\n",
       "      <td>Msc</td>\n",
       "    </tr>\n",
       "    <tr>\n",
       "      <th>nirman</th>\n",
       "      <td>22</td>\n",
       "      <td>Allahabad</td>\n",
       "      <td>MCA</td>\n",
       "    </tr>\n",
       "  </tbody>\n",
       "</table>\n",
       "</div>"
      ],
      "text/plain": [
       "         Age    Address Qualification\n",
       "Name                                 \n",
       "bhavesh   32    Kannuaj           Phd\n",
       "jay       32    Aligarh            MA\n",
       "laxit     36     Kanpur         B.com\n",
       "manjari   24     Kanpur            MA\n",
       "megh      27     Nagpur           Msc\n",
       "nirman    22  Allahabad           MCA"
      ]
     },
     "execution_count": 68,
     "metadata": {},
     "output_type": "execute_result"
    }
   ],
   "source": [
    "data1 = {'Name': ['megh', 'manjari', 'nirman', 'bhavesh',\n",
    "                  'megh', 'laxit', 'manjari', 'jay'],\n",
    "         'Age': [27, 24, 22, 32,\n",
    "                 33, 36, 27, 32],\n",
    "         'Address': ['Nagpur', 'Kanpur', 'Allahabad', 'Kannuaj',\n",
    "                     'Jaunpur', 'Kanpur', 'Allahabad', 'Aligarh'],\n",
    "         'Qualification': ['Msc', 'MA', 'MCA', 'Phd',\n",
    "                           'B.Tech', 'B.com', 'Msc', 'MA']}\n",
    "\n",
    "df = pd.DataFrame(data1)\n",
    "\n",
    "print(\"Original Dataframe\")\n",
    "print(df)\n",
    "\n",
    "gk = df.groupby('Name')\n",
    "\n",
    "print(\"After Creating Groups\")\n",
    "gk.first()\n"
   ]
  },
  {
   "cell_type": "raw",
   "id": "2f136c05-66b6-4d20-b00d-75ce44a18f6e",
   "metadata": {},
   "source": [
    "Python Pandas Aggregation"
   ]
  },
  {
   "cell_type": "code",
   "execution_count": 69,
   "id": "6647bd57-2577-4f37-882c-26fdaa5facc4",
   "metadata": {},
   "outputs": [
    {
     "name": "stdout",
     "output_type": "stream",
     "text": [
      "Name\n",
      "bhavesh    32\n",
      "jay        32\n",
      "laxit      36\n",
      "manjari    51\n",
      "megh       60\n",
      "nirman     22\n",
      "Name: Age, dtype: int64\n"
     ]
    }
   ],
   "source": [
    "import pandas as pd\n",
    "\n",
    "data1 = {'Name': ['megh', 'manjari', 'nirman', 'bhavesh',\n",
    "                  'megh', 'laxit', 'manjari', 'jay'],\n",
    "         'Age': [27, 24, 22, 32,\n",
    "                 33, 36, 27, 32],\n",
    "         'Address': ['Nagpur', 'Kanpur', 'Allahabad', 'Kannuaj',\n",
    "                     'Jaunpur', 'Kanpur', 'Allahabad', 'Aligarh'],\n",
    "         'Qualification': ['Msc', 'MA', 'MCA', 'Phd',\n",
    "                           'B.Tech', 'B.com', 'Msc', 'MA']}\n",
    "\n",
    "df = pd.DataFrame(data1)\n",
    "\n",
    "grp1 = df.groupby('Name')\n",
    "\n",
    "result = grp1['Age'].aggregate('sum')\n",
    "print(result)\n"
   ]
  },
  {
   "cell_type": "code",
   "execution_count": 70,
   "id": "4ccdb718-244c-43d2-b2c9-0821f388691c",
   "metadata": {},
   "outputs": [
    {
     "name": "stdout",
     "output_type": "stream",
     "text": [
      "  key     Name  Age key    Address Qualification\n",
      "0  K0      Jay   27  K0     Nagpur         Btech\n",
      "1  K1     megh   24  K1     Kanpur  Data Science\n",
      "2  K2  bhavesh   22  K2  Allahabad          Bcom\n",
      "3  K3    laxit   32  K3    Kannuaj        B.hons\n"
     ]
    }
   ],
   "source": [
    "# Python Pandas Concatenate Dataframe\n",
    "import pandas as pd\n",
    "\n",
    "data1 = {'key': ['K0', 'K1', 'K2', 'K3'],\n",
    "         'Name': ['Jay', 'megh', 'bhavesh', 'laxit'],\n",
    "         'Age': [27, 24, 22, 32]}\n",
    "\n",
    "data2 = {'key': ['K0', 'K1', 'K2', 'K3'],\n",
    "         'Address': ['Nagpur', 'Kanpur', 'Allahabad', 'Kannuaj'],\n",
    "         'Qualification': ['Btech', 'Data Science', 'Bcom', 'B.hons']}\n",
    "\n",
    "df = pd.DataFrame(data1)\n",
    "df1 = pd.DataFrame(data2)\n",
    "\n",
    "res = pd.concat([df, df1], axis=1)\n",
    "print(res)\n"
   ]
  },
  {
   "cell_type": "markdown",
   "id": "20ea2b35-af64-4000-83c6-74f3077416e5",
   "metadata": {},
   "source": [
    "Python Pandas Merge Dataframe"
   ]
  },
  {
   "cell_type": "code",
   "execution_count": 73,
   "id": "cc6896bf-60c2-40b6-ac79-59e356c3c59e",
   "metadata": {},
   "outputs": [
    {
     "data": {
      "text/html": [
       "<div>\n",
       "<style scoped>\n",
       "    .dataframe tbody tr th:only-of-type {\n",
       "        vertical-align: middle;\n",
       "    }\n",
       "\n",
       "    .dataframe tbody tr th {\n",
       "        vertical-align: top;\n",
       "    }\n",
       "\n",
       "    .dataframe thead th {\n",
       "        text-align: right;\n",
       "    }\n",
       "</style>\n",
       "<table border=\"1\" class=\"dataframe\">\n",
       "  <thead>\n",
       "    <tr style=\"text-align: right;\">\n",
       "      <th></th>\n",
       "      <th>key</th>\n",
       "      <th>Name</th>\n",
       "      <th>Age</th>\n",
       "    </tr>\n",
       "  </thead>\n",
       "  <tbody>\n",
       "    <tr>\n",
       "      <th>0</th>\n",
       "      <td>K0</td>\n",
       "      <td>Jay</td>\n",
       "      <td>22</td>\n",
       "    </tr>\n",
       "    <tr>\n",
       "      <th>1</th>\n",
       "      <td>K1</td>\n",
       "      <td>megh</td>\n",
       "      <td>21</td>\n",
       "    </tr>\n",
       "    <tr>\n",
       "      <th>2</th>\n",
       "      <td>K2</td>\n",
       "      <td>bhavesh</td>\n",
       "      <td>25</td>\n",
       "    </tr>\n",
       "    <tr>\n",
       "      <th>3</th>\n",
       "      <td>K3</td>\n",
       "      <td>laxit</td>\n",
       "      <td>26</td>\n",
       "    </tr>\n",
       "  </tbody>\n",
       "</table>\n",
       "</div>"
      ],
      "text/plain": [
       "  key     Name  Age\n",
       "0  K0      Jay   22\n",
       "1  K1     megh   21\n",
       "2  K2  bhavesh   25\n",
       "3  K3    laxit   26"
      ]
     },
     "metadata": {},
     "output_type": "display_data"
    },
    {
     "data": {
      "text/html": [
       "<div>\n",
       "<style scoped>\n",
       "    .dataframe tbody tr th:only-of-type {\n",
       "        vertical-align: middle;\n",
       "    }\n",
       "\n",
       "    .dataframe tbody tr th {\n",
       "        vertical-align: top;\n",
       "    }\n",
       "\n",
       "    .dataframe thead th {\n",
       "        text-align: right;\n",
       "    }\n",
       "</style>\n",
       "<table border=\"1\" class=\"dataframe\">\n",
       "  <thead>\n",
       "    <tr style=\"text-align: right;\">\n",
       "      <th></th>\n",
       "      <th>key</th>\n",
       "      <th>Address</th>\n",
       "      <th>Qualification</th>\n",
       "    </tr>\n",
       "  </thead>\n",
       "  <tbody>\n",
       "    <tr>\n",
       "      <th>0</th>\n",
       "      <td>K0</td>\n",
       "      <td>Nagpur</td>\n",
       "      <td>Btech</td>\n",
       "    </tr>\n",
       "    <tr>\n",
       "      <th>1</th>\n",
       "      <td>K1</td>\n",
       "      <td>Kanpur</td>\n",
       "      <td>Data Science</td>\n",
       "    </tr>\n",
       "    <tr>\n",
       "      <th>2</th>\n",
       "      <td>K2</td>\n",
       "      <td>Allahabad</td>\n",
       "      <td>Bcom</td>\n",
       "    </tr>\n",
       "    <tr>\n",
       "      <th>3</th>\n",
       "      <td>K3</td>\n",
       "      <td>Kannuaj</td>\n",
       "      <td>B.hons</td>\n",
       "    </tr>\n",
       "  </tbody>\n",
       "</table>\n",
       "</div>"
      ],
      "text/plain": [
       "  key    Address Qualification\n",
       "0  K0     Nagpur         Btech\n",
       "1  K1     Kanpur  Data Science\n",
       "2  K2  Allahabad          Bcom\n",
       "3  K3    Kannuaj        B.hons"
      ]
     },
     "metadata": {},
     "output_type": "display_data"
    },
    {
     "name": "stdout",
     "output_type": "stream",
     "text": [
      "  key     Name  Age    Address Qualification\n",
      "0  K0      Jay   22     Nagpur         Btech\n",
      "1  K1     megh   21     Kanpur  Data Science\n",
      "2  K2  bhavesh   25  Allahabad          Bcom\n",
      "3  K3    laxit   26    Kannuaj        B.hons\n"
     ]
    }
   ],
   "source": [
    "import pandas as pd \n",
    "\n",
    "data1 = {'key': ['K0', 'K1', 'K2', 'K3'],\n",
    "         'Name':['Jay', 'megh', 'bhavesh', 'laxit'], \n",
    "        'Age':[22, 21, 25, 26],} \n",
    "\n",
    "data2 = {'key': ['K0', 'K1', 'K2', 'K3'],\n",
    "         'Address':['Nagpur', 'Kanpur', 'Allahabad', 'Kannuaj'], \n",
    "        'Qualification':['Btech', 'Data Science', 'Bcom', 'B.hons']} \n",
    " \n",
    "df = pd.DataFrame(data1)\n",
    "df1 = pd.DataFrame(data2)  \n",
    "\n",
    "display(df,df1)\n",
    "\n",
    "res = pd.merge(df, df1, on='key')\n",
    "print(res)\n"
   ]
  },
  {
   "cell_type": "markdown",
   "id": "7ba1e97a-38ff-4f88-9b3f-0bf5baefd45b",
   "metadata": {},
   "source": [
    "Python Pandas Join Dataframe"
   ]
  },
  {
   "cell_type": "code",
   "execution_count": 74,
   "id": "d949c05b-435a-4278-8580-d095108a5968",
   "metadata": {},
   "outputs": [
    {
     "name": "stdout",
     "output_type": "stream",
     "text": [
      "       Name  Age    Address Qualification\n",
      "K0      Jay   27  Allahabad         Btech\n",
      "K1     megh   24        NaN           NaN\n",
      "K2  bhavesh   22    Kannuaj  Data Science\n",
      "K3    laxit   32  Allahabad          Bcom\n"
     ]
    }
   ],
   "source": [
    "import pandas as pd \n",
    "\n",
    "data1 = {'Name':['Jay', 'megh', 'bhavesh', 'laxit'], \n",
    "        'Age':[27, 24, 22, 32]} \n",
    "\n",
    "data2 = {'Address':['Allahabad', 'Kannuaj', 'Allahabad', 'Kannuaj'], \n",
    "        'Qualification':['Btech', 'Data Science', 'Bcom', 'B.hons']} \n",
    "  \n",
    "df = pd.DataFrame(data1,index=['K0', 'K1', 'K2', 'K3'])\n",
    "df1 = pd.DataFrame(data2, index=['K0', 'K2', 'K3', 'K4'])\n",
    "\n",
    "res = df.join(df1)\n",
    "print(res) \n"
   ]
  },
  {
   "cell_type": "markdown",
   "id": "11c15a63-5115-4cfa-835f-fe844430082a",
   "metadata": {},
   "source": [
    "Visualization with Matplotlib"
   ]
  },
  {
   "cell_type": "raw",
   "id": "0b24df29-66e2-48c7-a721-15a00ae35351",
   "metadata": {},
   "source": [
    "Matplotlib is a fantastic Python visualisation tool that is simple to use. Plots such as line, bar, scatter, histogram, and others are included, and it is based on NumPy arrays and made to interact with the larger SciPy stack. \n"
   ]
  },
  {
   "cell_type": "code",
   "execution_count": 77,
   "id": "4f2a5701-46f9-4425-988d-9f97ac2fab12",
   "metadata": {},
   "outputs": [
    {
     "data": {
      "image/png": "[encoded data removed]",
      "text/plain": [
       "<Figure size 640x480 with 1 Axes>"
      ]
     },
     "metadata": {},
     "output_type": "display_data"
    }
   ],
   "source": [
    "# Pyplot\n",
    "import matplotlib.pyplot as plt\n",
    "\n",
    "plt.plot([1, 2, 3, 4], [1, 5, 9, 16])\n",
    "plt.axis([0, 5, 0, 20])\n",
    "plt.show()\n"
   ]
  },
  {
   "cell_type": "code",
   "execution_count": 79,
   "id": "d1f6e966-47eb-4c54-8908-7dc7a1cc2501",
   "metadata": {},
   "outputs": [
    {
     "data": {
      "image/png": "[encoded data removed]",
      "text/plain": [
       "<Figure size 640x480 with 1 Axes>"
      ]
     },
     "metadata": {},
     "output_type": "display_data"
    }
   ],
   "source": [
    "# Bar chart\n",
    "import matplotlib.pyplot as plt\n",
    "import pandas as pd\n",
    "\n",
    "df = pd.read_csv(\"D:/Data Analytics/Data Analysis with Python/people_data.csv\")\n",
    "\n",
    "plt.bar(df['Last Name'], df['Job Title'])\n",
    "\n",
    "plt.title(\"people Dataset\")\n",
    "\n",
    "plt.legend([\"bar\"])\n",
    "plt.show()\n"
   ]
  },
  {
   "cell_type": "code",
   "execution_count": 80,
   "id": "491a7ed4-9e05-4fb5-8873-7a11cb37d39b",
   "metadata": {},
   "outputs": [
    {
     "data": {
      "image/png": "[encoded data removed]",
      "text/plain": [
       "<Figure size 640x480 with 1 Axes>"
      ]
     },
     "metadata": {},
     "output_type": "display_data"
    }
   ],
   "source": [
    "# Python Matplotlib Histogram\n",
    "import matplotlib.pyplot as plt\n",
    "import pandas as pd\n",
    "\n",
    "df = pd.read_csv(\"D:/Data Analytics/Data Analysis with Python/people_data.csv\")\n",
    "\n",
    "plt.hist(df[\"First Name\"])\n",
    "\n",
    "plt.title(\"Histogram\")\n",
    "\n",
    "plt.legend([\"Job Title\"])\n",
    "plt.show()\n"
   ]
  },
  {
   "cell_type": "code",
   "execution_count": 87,
   "id": "47e14489-7c45-4040-a950-ff245e4a97ca",
   "metadata": {},
   "outputs": [
    {
     "data": {
      "image/png": "[encoded data removed]",
      "text/plain": [
       "<Figure size 640x480 with 1 Axes>"
      ]
     },
     "metadata": {},
     "output_type": "display_data"
    }
   ],
   "source": [
    "# Python Matplotlib Scatter Plot\n",
    "\n",
    "df = pd.read_csv(\"D:/Data Analytics/Data Analysis with Python/people_data.csv\")\n",
    "\n",
    "plt.scatter(df[\"Sex\"], df[\"Date of birth\"])\n",
    "\n",
    "plt.title(\"Scatter Plot\")\n",
    "\n",
    "plt.legend([\"Date of birth\"])\n",
    "plt.show()\n"
   ]
  },
  {
   "cell_type": "code",
   "execution_count": 89,
   "id": "c65a1b18-a3b0-4afb-a9f7-17360bfd3370",
   "metadata": {},
   "outputs": [
    {
     "name": "stderr",
     "output_type": "stream",
     "text": [
      "C:\\Users\\grush\\AppData\\Local\\Temp\\ipykernel_4016\\3183166295.py:8: UserWarning: Parsing dates in %d-%m-%Y format when dayfirst=False (the default) was specified. Pass `dayfirst=True` or specify a format to silence this warning.\n",
      "  df[\"Date of birth\"] = pd.to_datetime(df[\"Date of birth\"])\n"
     ]
    },
    {
     "data": {
      "image/png": "[encoded data removed]",
      "text/plain": [
       "<Figure size 640x480 with 1 Axes>"
      ]
     },
     "metadata": {},
     "output_type": "display_data"
    }
   ],
   "source": [
    "import pandas as pd\n",
    "import matplotlib.pyplot as plt\n",
    "# Assuming your CSV file is \"people_data.csv\" and \"Date of birth\" is the column\n",
    "df = pd.read_csv(\"D:/Data Analytics/Data Analysis with Python/people_data.csv\")\n",
    "\n",
    "try:\n",
    "  # Attempt to convert \"Date of birth\" to datetime format (assuming it's dates)\n",
    "  df[\"Date of birth\"] = pd.to_datetime(df[\"Date of birth\"])\n",
    "\n",
    "  # Extract year as numeric for box plot (assuming you want to plot year of birth)\n",
    "  df[\"Year of birth\"] = df[\"Date of birth\"].dt.year\n",
    "  data_to_plot = df[\"Year of birth\"]\n",
    "except pd.errors.ParserError:\n",
    "  # Handle potential parsing errors if dates are not in a compatible format\n",
    "  print(\"Error: Could not parse 'Date of birth' column as dates. Skipping box plot.\")\n",
    "  pass  # Exit the code block if parsing fails\n",
    "if \"Year of birth\" in df.columns:  # Check if year column was created\n",
    "  plt.boxplot(data_to_plot)\n",
    "  plt.title(\"Box Plot of Year of Birth\")\n",
    "  plt.xlabel(\"Year of Birth\")\n",
    "  plt.ylabel(\"Value\")\n",
    "  plt.show()"
   ]
  },
  {
   "cell_type": "code",
   "execution_count": 98,
   "id": "778ce1f1-a121-437c-b1c2-c82e94fe8f8e",
   "metadata": {},
   "outputs": [
    {
     "data": {
      "image/png": "[encoded data removed]",
      "text/plain": [
       "<Figure size 640x480 with 1 Axes>"
      ]
     },
     "metadata": {},
     "output_type": "display_data"
    }
   ],
   "source": [
    "import matplotlib.pyplot as plt\n",
    "import pandas as pd\n",
    "\n",
    "df = pd.read_csv(\"D:/Data Analytics/Data Analysis with Python/ABC.csv\")\n",
    "\n",
    "plt.boxplot(df[\"Number\"])\n",
    "\n",
    "plt.title(\"Box Plot\")\n",
    "\n",
    "plt.legend([\"Number\"])\n",
    "plt.show()\n"
   ]
  },
  {
   "cell_type": "raw",
   "id": "3f3470e0-0e7b-44e8-adba-5e66203e8cd6",
   "metadata": {},
   "source": [
    "# Python Matplotlib Correlation Heatmap\n",
    "To create a correlation heatmap, the data must be given through the corr() method. Additionally, while creating a correlation heatmap, corr() itself selects the columns that can be used and removes those that won't be useful."
   ]
  },
  {
   "cell_type": "code",
   "execution_count": 102,
   "id": "ad0aa376-5bbe-469c-a80d-e61025248192",
   "metadata": {},
   "outputs": [
    {
     "data": {
      "image/png": "[encoded data removed]",
      "text/plain": [
       "<Figure size 640x480 with 1 Axes>"
      ]
     },
     "metadata": {},
     "output_type": "display_data"
    }
   ],
   "source": [
    "import matplotlib.pyplot as plt\n",
    "import pandas as pd\n",
    "\n",
    "df = pd.read_csv(\"D:/Data Analytics/Data Analysis with Python/ABC.csv\")\n",
    "\n",
    "# Assuming the text column is named 'Name' (replace with the actual name)\n",
    "df_filtered = df.select_dtypes(exclude=object)  # Exclude text data types\n",
    "\n",
    "corr_matrix = df_filtered.corr()  # Calculate correlation matrix\n",
    "\n",
    "plt.imshow(corr_matrix, cmap='viridis', interpolation='nearest')\n",
    "plt.title(\"Heat Map\")\n",
    "plt.show()"
   ]
  },
  {
   "cell_type": "code",
   "execution_count": null,
   "id": "30a60b47-6bf2-4334-8dbd-0968b6653887",
   "metadata": {},
   "outputs": [],
   "source": []
  }
 ],
 "metadata": {
  "kernelspec": {
   "display_name": "Python 3 (ipykernel)",
   "language": "python",
   "name": "python3"
  },
  "language_info": {
   "codemirror_mode": {
    "name": "ipython",
    "version": 3
   },
   "file_extension": ".py",
   "mimetype": "text/x-python",
   "name": "python",
   "nbconvert_exporter": "python",
   "pygments_lexer": "ipython3",
   "version": "3.12.7"
  }
 },
 "nbformat": 4,
 "nbformat_minor": 5
}
